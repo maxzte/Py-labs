{
 "cells": [
  {
   "cell_type": "markdown",
   "id": "831b4dae-d4c5-41cd-bca1-def6c2bbf6f7",
   "metadata": {},
   "source": [
    "# Грузія\n",
    "\n",
    "## Загальна інформація\n",
    "\n",
    "<p style=\"border: 1px solid #333; padding: 10px;\">\n",
    "Грузія — **країна** у Східній Європі, що розташована на перехресті Європи та Азії. Столиця — _Тбілісі_. Вона славиться багатою історією, культурою та мальовничою природою.\n",
    "</p>\n",
    "\n",
    "## Прапор Грузії\n",
    "\n",
    "<svg xmlns=\"http://www.w3.org/2000/svg\" xmlns:xlink=\"http://www.w3.org/1999/xlink\" width=\"900\" height=\"600\" viewBox=\"0 0 30 20\" fill=\"#f00\">\n",
    "\t<title>Flag of Georgia</title>\n",
    "\t<path fill=\"#fff\" d=\"m0 0h30v20H0z\"/>\n",
    "\t<path d=\"m13 0h4v20h-4zM0 8h30v4H0z\"/>\n",
    "\t<g id=\"c\">\n",
    "\t\t<g id=\"b\">\n",
    "\t\t\t<path id=\"a\" d=\"m5.7968 1.954a5.4 5.4 0 0 0 1.4064 0 10.4 10.4 0 0 0 0 4.092 5.4 5.4 0 0 0-1.4064 0 10.4 10.4 0 0 0 0-4.092z\"/>\n",
    "\t\t\t<use transform=\"rotate(90,6.5,4)\" xlink:href=\"#a\"/>\n",
    "\t\t</g>\n",
    "\t\t<use x=\"17\" xlink:href=\"#b\"/>\n",
    "\t</g>\n",
    "\t<use y=\"12\" xlink:href=\"#c\"/>\n",
    "</svg>\n",
    "\n",
    "## Основна інформація\n",
    "\n",
    "- **Площа**: _69,700 км²_\n",
    "- **Населення**: _близько 3.7 мільйона_\n",
    "- **Державний устрій**: парламентська республіка\n",
    "\n",
    "### Видатні персоналії\n",
    "\n",
    "1. Шота Руставелі — великий грузинський поет, автор \"Витязь у тигровій шкурі\".\n",
    "2. Ілля Чавчавадзе — громадський діяч, публіцист та реформатор.\n",
    "3. **Звіад Гамсахурдіа** — перший президент Грузії після здобуття незалежності.\n",
    "\n",
    "## Культура\n",
    "\n",
    "Грузія відома **багатими традиціями** та культурою:\n",
    "- **Кухня**:\n",
    "  - Хачапурі\n",
    "  - Хінкалі\n",
    "  - Лобіо\n",
    "- **Традиції**:\n",
    "  - _Грузинське виноробство_ є одним із найстаріших у світі.\n",
    "  \n",
    "## Природа та пам'ятки\n",
    "\n",
    "| Пам'ятка         | Місце знаходження           | Опис                                            |\n",
    "|------------------|-----------------------------|-------------------------------------------------|\n",
    "| Казбегі          | Гірський регіон             | Один із найвищих гірських піків Кавказу.        |\n",
    "| Уплісцихе        | Скельне місто               | Древнє місто, висічене в скелях.                |\n",
    "| Гергетська церква| Казбегі                     | Церква Святої Трійці, розташована на вершині.   |\n",
    "\n",
    "## Гіперпосилання\n",
    "\n",
    "[Дізнатися більше про Грузію на Wikipedia](https://uk.wikipedia.org/wiki/%D0%93%D1%80%D1%83%D0%B7%D1%96%D1%8F)\n",
    "\n",
    "![Гергетська Трійця](./res/Gruzia_mapa_UK.PNG)\n",
    "\n",
    "![Гергетська Трійця](https://upload.wikimedia.org/wikipedia/commons/5/5f/Khevi%2C_Georgia_%E2%80%94_View_of_Gergeti_Trinity_Church.jpg)\n",
    "\n"
   ]
  },
  {
   "cell_type": "code",
   "execution_count": 14,
   "id": "8cf455e6-bd0f-472d-a5c4-d3eaf4360ac3",
   "metadata": {},
   "outputs": [],
   "source": [
    "def gnomesort():\n",
    "    a = list(map(int, input(\"Введіть числа, розділені пробілами: \").split()))\n",
    "    i, j, size = 1, 2, len(a)\n",
    "    while i < size:\n",
    "        if a[i - 1] >= a[i]:\n",
    "            i, j = j, j + 1\n",
    "        else:\n",
    "            a[i - 1], a[i] = a[i], a[i - 1]\n",
    "            i -= 1\n",
    "            if i == 0:\n",
    "                i, j = j, j + 1\n",
    "    return a"
   ]
  },
  {
   "cell_type": "code",
   "execution_count": 15,
   "id": "f8171941-a88e-49ad-b790-54f8e71a0f3c",
   "metadata": {},
   "outputs": [
    {
     "name": "stdin",
     "output_type": "stream",
     "text": [
      "Введіть числа, розділені пробілами:  -100 1 100 0 1\n"
     ]
    },
    {
     "data": {
      "text/plain": [
       "[100, 1, 1, 0, -100]"
      ]
     },
     "execution_count": 15,
     "metadata": {},
     "output_type": "execute_result"
    }
   ],
   "source": [
    "gnomesort()"
   ]
  },
  {
   "cell_type": "code",
   "execution_count": 16,
   "id": "4ac05962-8a56-4f90-8948-eb6b21a71d4b",
   "metadata": {},
   "outputs": [
    {
     "name": "stdin",
     "output_type": "stream",
     "text": [
      "Введіть числа, розділені пробілами:  1 2 3 4\n"
     ]
    },
    {
     "data": {
      "text/plain": [
       "[4, 3, 2, 1]"
      ]
     },
     "execution_count": 16,
     "metadata": {},
     "output_type": "execute_result"
    }
   ],
   "source": [
    "gnomesort()"
   ]
  },
  {
   "cell_type": "code",
   "execution_count": 17,
   "id": "9611720f-c4d2-4fcc-ac9f-94b88f7aa7f8",
   "metadata": {},
   "outputs": [
    {
     "name": "stdin",
     "output_type": "stream",
     "text": [
      "Введіть числа, розділені пробілами:  5 3 78 3 23 7 34\n"
     ]
    },
    {
     "data": {
      "text/plain": [
       "[78, 34, 23, 7, 5, 3, 3]"
      ]
     },
     "execution_count": 17,
     "metadata": {},
     "output_type": "execute_result"
    }
   ],
   "source": [
    "gnomesort()"
   ]
  }
 ],
 "metadata": {
  "kernelspec": {
   "display_name": "Python 3 (ipykernel)",
   "language": "python",
   "name": "python3"
  },
  "language_info": {
   "codemirror_mode": {
    "name": "ipython",
    "version": 3
   },
   "file_extension": ".py",
   "mimetype": "text/x-python",
   "name": "python",
   "nbconvert_exporter": "python",
   "pygments_lexer": "ipython3",
   "version": "3.12.7"
  }
 },
 "nbformat": 4,
 "nbformat_minor": 5
}

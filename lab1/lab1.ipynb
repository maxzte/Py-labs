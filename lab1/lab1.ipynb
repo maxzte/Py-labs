{
 "cells": [
  {
   "cell_type": "markdown",
   "id": "c84485e5-2db1-41d6-ac92-25e4568c26e2",
   "metadata": {},
   "source": [
    "# ВАРІАНТ 5: Гана\n",
    "## Загальна інформація\n",
    "<p style=\"color: green;\">**Гана** — країна на заході Африки, розташована на узбережжі Атлантичного океану.</p>\n",
    "\n",
    "<div style=\"border: 1px solid black; padding: 10px;\">\n",
    "    <strong>Столиця:</strong><i> Аккра</i>  \n",
    "    <strong>Офіційна мова:</strong><i> Англійська</i>  \n",
    "    <strong>Населення:</strong> <i>приблизно 31 мільйон осіб</i>  \n",
    "    <strong>Площа:</strong> <i>238,533 км²</i>\n",
    "</div>\n",
    "\n",
    "### Державний устрій\n",
    "Гана є **унітарною президентською республікою**.\n",
    "\n",
    "## Видатні персоналії\n",
    "1. **Кваме Нкрума** — перший президент Гани та видатний борець за незалежність.\n",
    "2. **Кофі Аннан** — колишній генеральний секретар ООН.\n",
    "3. **Майкл Ессьєн** — відомий футболіст, що грав за клуб \"Челсі\" та національну збірну Гани.\n",
    "\n",
    "### Природні та культурні пам'ятки\n",
    "- **Національний парк Какум**: домівка для безлічі видів рослин і тварин, знаменитий своїми підвісними мостами.\n",
    "- **Замок Ельміна**: один з найстаріших європейських замків в Африці.\n",
    "- **Водоспад Влі**: найвищий водоспад у Західній Африці.\n",
    "\n",
    "## Таблиця економічних показників\n",
    "| Показник         | Значення            |\n",
    "| ---------------- | ------------------- |\n",
    "| ВВП на душу      | $5,600             |\n",
    "| Основні експортні товари | Золото, какао, нафта |\n",
    "| Рівень безробіття | 4.3%               |\n",
    "\n",
    "## Символіка країни\n",
    "\n",
    "<h3>Прапор Гани</h3>\n",
    "<svg \n",
    "    xmlns=\"http://www.w3.org/2000/svg\"\n",
    "    width=\"125\" height=\"84\">\n",
    "    <path fill=\"#006b3f\" d=\"m0 0h900v600H0\"/>\n",
    "    <path fill=\"#fcd116\" d=\"m0 0h900v400H0\"/>\n",
    "    <path fill=\"#ce1126\" d=\"m0 0h900v200H0\"/>\n",
    "    <path d=\"m450 200 64.98 200-170.13-123.61h210.3L385.02 400\"/>\n",
    "</svg>\n",
    "\n",
    "## Фотографії та зображення\n",
    "![Ghanaian winter sports Olympic team at the opening ceremony of the 2010 Winter Olympics](https://upload.wikimedia.org/wikipedia/commons/6/66/2010_Opening_Ceremony_-_Ghana_entering.jpg)\n",
    "\n",
    "- **Парк Какум**: [Парк Какум на Вікіпедії](https://upload.wikimedia.org/wikipedia/commons/d/df/Kakum_National_Park.jpg)\n",
    "\n",
    "- **Ельміна**: [Замок Ельміна на Вікіпедії](https://en.wikipedia.org/wiki/Elmina_Castle)\n",
    "\n",
    "## Економіка\n",
    "Гана має один з найвищих рівнів зростання економіки в Африці, завдяки ресурсам, таким як золото, какао і нафта.\n",
    "\n",
    "### Підгалузі економіки\n",
    "- **Сільське господарство**\n",
    "  - Какао\n",
    "  - Кава\n",
    "  - Маслинова пальма\n",
    "- **Видобувна промисловість**\n",
    "  - Золото\n",
    "  - Алмази\n",
    "  - Нафта\n",
    "\n"
   ]
  },
  {
   "cell_type": "code",
   "execution_count": 1,
   "id": "5c954087-0979-468e-a9c4-f448a1ae41de",
   "metadata": {},
   "outputs": [],
   "source": [
    "import math\n",
    "\n",
    "def sieve(limit):\n",
    "    prime = [True] * limit\n",
    "    prime[0], prime[1] = False, False \n",
    "    for i in range(2, math.isqrt(limit) + 1):\n",
    "        if prime[i]:\n",
    "            for j in range(i * i, limit, i):\n",
    "                prime[j] = False\n",
    "    return [i for i, is_prime in enumerate(prime) if is_prime]\n",
    "\n",
    "def getPrime():\n",
    "    try:\n",
    "        k = int(input(\"Введіть порядковий номер простого числа, яке бажаєте отримати: \"))\n",
    "        if k <= 0:\n",
    "            raise ValueError(\"k має бути додатним цілим числом.\")\n",
    "        \n",
    "        limit = 1000000\n",
    "        primes = sieve(limit)    \n",
    "\n",
    "        if k > len(primes):\n",
    "            raise ValueError(\"k перевищує кількість знайдених простих чисел. Збільште значення межі.\")\n",
    "        \n",
    "        print(f\"{k}-те просте число: {primes[k - 1]}\")\n",
    "    except ValueError as e:\n",
    "        print(\"Помилка:\", e)"
   ]
  },
  {
   "cell_type": "code",
   "execution_count": 2,
   "id": "9eb75162-0408-4932-9347-a93b6ab12b18",
   "metadata": {},
   "outputs": [
    {
     "name": "stdin",
     "output_type": "stream",
     "text": [
      "Введіть порядковий номер простого числа, яке бажаєте отримати:  -1\n"
     ]
    },
    {
     "name": "stdout",
     "output_type": "stream",
     "text": [
      "Помилка: k має бути додатним цілим числом.\n"
     ]
    }
   ],
   "source": [
    "getPrime()"
   ]
  },
  {
   "cell_type": "code",
   "execution_count": 3,
   "id": "1c2346a3-f1f5-442d-9f52-063ae040d61c",
   "metadata": {},
   "outputs": [
    {
     "name": "stdin",
     "output_type": "stream",
     "text": [
      "Введіть порядковий номер простого числа, яке бажаєте отримати:  0\n"
     ]
    },
    {
     "name": "stdout",
     "output_type": "stream",
     "text": [
      "Помилка: k має бути додатним цілим числом.\n"
     ]
    }
   ],
   "source": [
    "getPrime()"
   ]
  },
  {
   "cell_type": "code",
   "execution_count": 4,
   "id": "a407e123-87ec-4f44-a3c9-ca905bb8abab",
   "metadata": {},
   "outputs": [
    {
     "name": "stdin",
     "output_type": "stream",
     "text": [
      "Введіть порядковий номер простого числа, яке бажаєте отримати:  1\n"
     ]
    },
    {
     "name": "stdout",
     "output_type": "stream",
     "text": [
      "1-те просте число: 2\n"
     ]
    }
   ],
   "source": [
    "getPrime()"
   ]
  },
  {
   "cell_type": "code",
   "execution_count": null,
   "id": "b3093bc7-5357-4ec1-8fbc-fd78f383db7b",
   "metadata": {},
   "outputs": [],
   "source": []
  }
 ],
 "metadata": {
  "kernelspec": {
   "display_name": "Python 3 (ipykernel)",
   "language": "python",
   "name": "python3"
  },
  "language_info": {
   "codemirror_mode": {
    "name": "ipython",
    "version": 3
   },
   "file_extension": ".py",
   "mimetype": "text/x-python",
   "name": "python",
   "nbconvert_exporter": "python",
   "pygments_lexer": "ipython3",
   "version": "3.12.7"
  }
 },
 "nbformat": 4,
 "nbformat_minor": 5
}
